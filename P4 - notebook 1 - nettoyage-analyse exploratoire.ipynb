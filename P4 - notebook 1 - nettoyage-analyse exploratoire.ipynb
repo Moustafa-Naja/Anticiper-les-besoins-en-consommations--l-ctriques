{
 "cells": [
  {
   "cell_type": "markdown",
   "id": "03f8f6c5",
   "metadata": {},
   "source": [
    "# Anticipez les besoins en consommation électrique de bâtiments"
   ]
  },
  {
   "cell_type": "markdown",
   "id": "8291a585",
   "metadata": {},
   "source": [
    "# Nettoyage et exploration des données\n",
    "\n",
    "* [Concaténation des bases de données](#Concaténation-des-bases-de-données)\n",
    "* [Taux de données manquantes ](#Taux-de-données-manquantes )\n",
    "* [Sélection de variables](#Sélection-de-variables)\n",
    "* [Imputation des valeurs manquantes](#Imputation-des-valeurs-manquantes)\n",
    "* [Nettoyage de données textuelles](#Nettoyage-de-données-textuelles)"
   ]
  },
  {
   "cell_type": "code",
   "execution_count": 247,
   "id": "1984195a",
   "metadata": {},
   "outputs": [
    {
     "name": "stdout",
     "output_type": "stream",
     "text": [
      "Requirement already satisfied: missingpy in ./opt/anaconda3/lib/python3.8/site-packages (0.2.0)\n",
      "Note: you may need to restart the kernel to use updated packages.\n"
     ]
    }
   ],
   "source": [
    "pip install missingpy"
   ]
  },
  {
   "cell_type": "code",
   "execution_count": 246,
   "id": "ddb4d29a",
   "metadata": {},
   "outputs": [
    {
     "name": "stdout",
     "output_type": "stream",
     "text": [
      "Collecting asteval\n",
      "  Downloading asteval-0.9.25.tar.gz (39 kB)\n",
      "  Preparing metadata (setup.py) ... \u001b[?25ldone\n",
      "\u001b[?25hBuilding wheels for collected packages: asteval\n",
      "  Building wheel for asteval (setup.py) ... \u001b[?25ldone\n",
      "\u001b[?25h  Created wheel for asteval: filename=asteval-0.9.25-py3-none-any.whl size=17287 sha256=51c7ca5c4064a743cf7bdb8651146cb5acad5dda581bb8a68862b4a65c1d6a55\n",
      "  Stored in directory: /Users/mousta/Library/Caches/pip/wheels/9d/52/8e/9892a79fe41878280e133d5bd233a0d73dcab6f8dfd9a0e8cd\n",
      "Successfully built asteval\n",
      "Installing collected packages: asteval\n",
      "Successfully installed asteval-0.9.25\n",
      "Note: you may need to restart the kernel to use updated packages.\n"
     ]
    }
   ],
   "source": [
    "pip install asteval"
   ]
  },
  {
   "cell_type": "code",
   "execution_count": 1086,
   "id": "6d39f7a2",
   "metadata": {},
   "outputs": [],
   "source": [
    "import sys\n",
    "import sklearn.neighbors._base\n",
    "sys.modules['sklearn.neighbors.base'] = sklearn.neighbors._base\n",
    "\n",
    "import pandas as pd\n",
    "import numpy as np\n",
    "import math\n",
    "import matplotlib.pyplot as plt\n",
    "import seaborn as sns\n",
    "import plotly.express as px\n",
    "import ast\n",
    "from ast import literal_eval\n",
    "\n",
    "from missingpy import MissForest\n",
    "import timeit\n",
    "from sklearn.preprocessing import LabelEncoder\n",
    "from sklearn.preprocessing import StandardScaler\n",
    "from sklearn.model_selection import train_test_split, cross_val_score\n",
    "from sklearn.ensemble import RandomForestRegressor\n",
    "from matplotlib import pyplot\n",
    "\n",
    "from sklearn import model_selection\n",
    "from sklearn import dummy\n",
    "from sklearn import neighbors, metrics\n",
    "from sklearn.linear_model import LinearRegression\n",
    "from sklearn.linear_model import Ridge\n",
    "from sklearn import kernel_ridge\n",
    "from sklearn.ensemble import GradientBoostingRegressor\n",
    "from sklearn.linear_model import RidgeCV\n",
    "from sklearn.metrics import roc_curve, auc\n",
    "from sklearn.metrics import make_scorer\n",
    "from sklearn.metrics import mean_absolute_error\n",
    "from sklearn.metrics import mean_squared_error\n",
    "from sklearn.metrics import r2_score\n",
    "\n",
    "from sklearn.pipeline import make_pipeline\n",
    "from sklearn.svm import SVR"
   ]
  },
  {
   "cell_type": "code",
   "execution_count": 1169,
   "id": "312ebc56",
   "metadata": {},
   "outputs": [],
   "source": [
    "data2015 = pd.read_csv(\"2015-building-energy-benchmarking.csv\")\n",
    "data2016 = pd.read_csv(\"2016-building-energy-benchmarking.csv\")\n",
    "pd.set_option('display.max_columns',100)"
   ]
  },
  {
   "cell_type": "code",
   "execution_count": 1088,
   "id": "a71859d7",
   "metadata": {},
   "outputs": [
    {
     "name": "stdout",
     "output_type": "stream",
     "text": [
      "La dataset de l'année 2015 compte 3340 observations et 47 variables\n",
      "The dataset of the year 2015 contains 3340 observations and 47 variables\n",
      "La dataset de l'année 2016 compte 3376 observations et 46 variables\n",
      "The dataset of the year 2016 contains 3376 observations and 46 variables\n"
     ]
    }
   ],
   "source": [
    "print(\"La dataset de l'année 2015 compte {} observations et {} variables\".format(data2015.shape[0],data2015.shape[1]))\n",
    "print(\"The dataset of the year 2015 contains {} observations and {} variables\".format(data2015.shape[0],data2015.shape[1]))\n",
    "print(\"La dataset de l'année 2016 compte {} observations et {} variables\".format(data2016.shape[0],data2016.shape[1]))\n",
    "print(\"The dataset of the year 2016 contains {} observations and {} variables\".format(data2016.shape[0],data2016.shape[1]))"
   ]
  },
  {
   "cell_type": "code",
   "execution_count": 1166,
   "id": "911680ee",
   "metadata": {},
   "outputs": [
    {
     "name": "stdout",
     "output_type": "stream",
     "text": [
      "Les variables collectées en 2015 et non pas en 2016 sont les suivantes:\n",
      "-OtherFuelUse(kBtu)\n",
      "-2010 Census Tracts\n",
      "-Seattle Police Department Micro Community Policing Plan Areas\n",
      "-City Council Districts\n",
      "-SPD Beats\n"
     ]
    }
   ],
   "source": [
    "print(\"Les variables collectées en 2015 et non pas en 2016 sont les suivantes:\")\n",
    "for column in data2015:\n",
    "    if column not in data2016:\n",
    "        print(\"-{}\".format(column))"
   ]
  },
  {
   "cell_type": "code",
   "execution_count": 1090,
   "id": "79b42a55",
   "metadata": {},
   "outputs": [
    {
     "name": "stdout",
     "output_type": "stream",
     "text": [
      "Les variables collectées en 2016 et non pas en 2015 sont les suivantes:\n",
      "-Address\n",
      "-City\n",
      "-State\n",
      "-ZipCode\n",
      "-Latitude\n",
      "-Longitude\n",
      "-Comments\n",
      "-TotalGHGEmissions\n",
      "-GHGEmissionsIntensity\n"
     ]
    }
   ],
   "source": [
    "print(\"Les variables collectées en 2016 et non pas en 2015 sont les suivantes:\")\n",
    "for column in data2016:\n",
    "    if column not in data2015 :\n",
    "        print(\"-{}\".format(column))"
   ]
  },
  {
   "cell_type": "markdown",
   "id": "39bce58a",
   "metadata": {},
   "source": [
    "### Concaténation des bases de données"
   ]
  },
  {
   "cell_type": "code",
   "execution_count": 1184,
   "id": "dcbbf6b1",
   "metadata": {},
   "outputs": [
    {
     "data": {
      "text/plain": [
       "<AxesSubplot:>"
      ]
     },
     "execution_count": 1184,
     "metadata": {},
     "output_type": "execute_result"
    },
    {
     "data": {
      "image/png": "[encoded data removed]",
      "text/plain": [
       "<Figure size 576x432 with 1 Axes>"
      ]
     },
     "metadata": {},
     "output_type": "display_data"
    }
   ],
   "source": [
    "GHGEmissions =  pd.DataFrame([data2015['GHGEmissions(MetricTonsCO2e)'],data2016['TotalGHGEmissions']]).T\n",
    "sns.set(font_scale=1.2)\n",
    "sns.set_style(\"whitegrid\")\n",
    "meanprops = {'marker':'o', 'markeredgecolor':'black',\n",
    "            'markerfacecolor':'firebrick'}\n",
    "plt.figure(figsize=(8,6))\n",
    "sns.boxplot(data=GHGEmissions)"
   ]
  },
  {
   "cell_type": "markdown",
   "id": "6fdde1e4",
   "metadata": {},
   "source": [
    "- Il s'avère que les données de la variable **TotalGHGEmissions** receuilli en 2016 et la variable **GHGEmissions(MetricTonsCO2e)** receulli en 2015 suivent la même distribution donc ces 2 variables sont similaires"
   ]
  },
  {
   "cell_type": "code",
   "execution_count": 1185,
   "id": "f3dcfede",
   "metadata": {},
   "outputs": [
    {
     "data": {
      "text/plain": [
       "<AxesSubplot:>"
      ]
     },
     "execution_count": 1185,
     "metadata": {},
     "output_type": "execute_result"
    },
    {
     "data": {
      "image/png": "[encoded data removed]",
      "text/plain": [
       "<Figure size 576x432 with 1 Axes>"
      ]
     },
     "metadata": {},
     "output_type": "display_data"
    }
   ],
   "source": [
    "GHGEintensity =  pd.DataFrame([data2015['GHGEmissionsIntensity(kgCO2e/ft2)'],data2016['GHGEmissionsIntensity']]).T\n",
    "sns.set(font_scale=1.2)\n",
    "sns.set_style(\"whitegrid\")\n",
    "meanprops = {'marker':'o', 'markeredgecolor':'black',\n",
    "            'markerfacecolor':'firebrick'}\n",
    "plt.figure(figsize=(8,6))\n",
    "sns.boxplot(data=GHGEintensity)"
   ]
  },
  {
   "cell_type": "markdown",
   "id": "728b3c20",
   "metadata": {},
   "source": [
    "- De la même façon, il s'avère que les données de la variable **GHGEmissionsIntensity** receuilli en 2016 et la variable **GHGEmissionsIntensity(kgCO2e/ft2)** receulli en 2015 suivent la même distribution donc ces 2 variables sont similaires "
   ]
  },
  {
   "cell_type": "markdown",
   "id": "9cd70ee0",
   "metadata": {},
   "source": [
    "On remarque que la variable **Location** de la database de 2015 contient un dictionnaire avec les informations suivantes : latitude, longitude, address, city, state, zip.\n",
    "Je vais scinder ce dictionnaire pour pouvoir extraire les informations et les integrer dans la database 2015 en créant de nouvelles colonnes pour chacune. Pour faire je vais utiliser `ast.literal_eval`qui permet d'évaluez en toute sécurité un noeud d'expression ou une chaîne contenant un Python littéral de type chaînes, octets, nombres, tuples, listes, plans, ensembles, booléens, Aucun, octets et ensembles. ou un affichage de conteneur."
   ]
  },
  {
   "cell_type": "code",
   "execution_count": 1186,
   "id": "691aa558",
   "metadata": {},
   "outputs": [],
   "source": [
    "data2015.Location = data2015.Location.apply(literal_eval)\n",
    "Location1 = data2015['Location'].apply(pd.Series)\n",
    "Location1.human_address = Location1.human_address.apply(literal_eval)\n",
    "Location2 = Location1.human_address.apply(pd.Series)"
   ]
  },
  {
   "cell_type": "code",
   "execution_count": 1187,
   "id": "b24d3415",
   "metadata": {},
   "outputs": [],
   "source": [
    "Coordonnées = Location1[[\"latitude\",\"longitude\"]]\n",
    "extracted_location = pd.concat([Coordonnées,Location2],axis=1)"
   ]
  },
  {
   "cell_type": "code",
   "execution_count": 1188,
   "id": "793a9e02",
   "metadata": {},
   "outputs": [],
   "source": [
    "data2015 = pd.concat([data2015,extracted_location],axis=1) # intégration des données extraites de la colonne Location à la database 2015"
   ]
  },
  {
   "cell_type": "code",
   "execution_count": 1189,
   "id": "6c6301bb",
   "metadata": {},
   "outputs": [
    {
     "data": {
      "text/html": [
       "<div>\n",
       "<style scoped>\n",
       "    .dataframe tbody tr th:only-of-type {\n",
       "        vertical-align: middle;\n",
       "    }\n",
       "\n",
       "    .dataframe tbody tr th {\n",
       "        vertical-align: top;\n",
       "    }\n",
       "\n",
       "    .dataframe thead th {\n",
       "        text-align: right;\n",
       "    }\n",
       "</style>\n",
       "<table border=\"1\" class=\"dataframe\">\n",
       "  <thead>\n",
       "    <tr style=\"text-align: right;\">\n",
       "      <th></th>\n",
       "      <th>OSEBuildingID</th>\n",
       "      <th>DataYear</th>\n",
       "      <th>BuildingType</th>\n",
       "      <th>PrimaryPropertyType</th>\n",
       "      <th>PropertyName</th>\n",
       "      <th>TaxParcelIdentificationNumber</th>\n",
       "      <th>Location</th>\n",
       "      <th>CouncilDistrictCode</th>\n",
       "      <th>Neighborhood</th>\n",
       "      <th>YearBuilt</th>\n",
       "      <th>NumberofBuildings</th>\n",
       "      <th>NumberofFloors</th>\n",
       "      <th>PropertyGFATotal</th>\n",
       "      <th>PropertyGFAParking</th>\n",
       "      <th>PropertyGFABuilding(s)</th>\n",
       "      <th>ListOfAllPropertyUseTypes</th>\n",
       "      <th>LargestPropertyUseType</th>\n",
       "      <th>LargestPropertyUseTypeGFA</th>\n",
       "      <th>SecondLargestPropertyUseType</th>\n",
       "      <th>SecondLargestPropertyUseTypeGFA</th>\n",
       "      <th>ThirdLargestPropertyUseType</th>\n",
       "      <th>ThirdLargestPropertyUseTypeGFA</th>\n",
       "      <th>YearsENERGYSTARCertified</th>\n",
       "      <th>ENERGYSTARScore</th>\n",
       "      <th>SiteEUI(kBtu/sf)</th>\n",
       "      <th>SiteEUIWN(kBtu/sf)</th>\n",
       "      <th>SourceEUI(kBtu/sf)</th>\n",
       "      <th>SourceEUIWN(kBtu/sf)</th>\n",
       "      <th>SiteEnergyUse(kBtu)</th>\n",
       "      <th>SiteEnergyUseWN(kBtu)</th>\n",
       "      <th>SteamUse(kBtu)</th>\n",
       "      <th>Electricity(kWh)</th>\n",
       "      <th>Electricity(kBtu)</th>\n",
       "      <th>NaturalGas(therms)</th>\n",
       "      <th>NaturalGas(kBtu)</th>\n",
       "      <th>OtherFuelUse(kBtu)</th>\n",
       "      <th>GHGEmissions(MetricTonsCO2e)</th>\n",
       "      <th>GHGEmissionsIntensity(kgCO2e/ft2)</th>\n",
       "      <th>DefaultData</th>\n",
       "      <th>Comment</th>\n",
       "      <th>ComplianceStatus</th>\n",
       "      <th>Outlier</th>\n",
       "      <th>2010 Census Tracts</th>\n",
       "      <th>Seattle Police Department Micro Community Policing Plan Areas</th>\n",
       "      <th>City Council Districts</th>\n",
       "      <th>SPD Beats</th>\n",
       "      <th>Zip Codes</th>\n",
       "      <th>latitude</th>\n",
       "      <th>longitude</th>\n",
       "      <th>address</th>\n",
       "      <th>city</th>\n",
       "      <th>state</th>\n",
       "      <th>zip</th>\n",
       "    </tr>\n",
       "  </thead>\n",
       "  <tbody>\n",
       "    <tr>\n",
       "      <th>0</th>\n",
       "      <td>1</td>\n",
       "      <td>2015</td>\n",
       "      <td>NonResidential</td>\n",
       "      <td>Hotel</td>\n",
       "      <td>MAYFLOWER PARK HOTEL</td>\n",
       "      <td>659000030</td>\n",
       "      <td>{'latitude': '47.61219025', 'longitude': '-122...</td>\n",
       "      <td>7</td>\n",
       "      <td>DOWNTOWN</td>\n",
       "      <td>1927</td>\n",
       "      <td>1</td>\n",
       "      <td>12.0</td>\n",
       "      <td>88434</td>\n",
       "      <td>0</td>\n",
       "      <td>88434</td>\n",
       "      <td>Hotel</td>\n",
       "      <td>Hotel</td>\n",
       "      <td>88434.0</td>\n",
       "      <td>NaN</td>\n",
       "      <td>NaN</td>\n",
       "      <td>NaN</td>\n",
       "      <td>NaN</td>\n",
       "      <td>NaN</td>\n",
       "      <td>65.0</td>\n",
       "      <td>78.9</td>\n",
       "      <td>80.3</td>\n",
       "      <td>173.5</td>\n",
       "      <td>175.1</td>\n",
       "      <td>6981428.0</td>\n",
       "      <td>7097539.0</td>\n",
       "      <td>2023032.0</td>\n",
       "      <td>1080307.0</td>\n",
       "      <td>3686160.0</td>\n",
       "      <td>12724.0</td>\n",
       "      <td>1272388.0</td>\n",
       "      <td>0.0</td>\n",
       "      <td>249.43</td>\n",
       "      <td>2.64</td>\n",
       "      <td>No</td>\n",
       "      <td>NaN</td>\n",
       "      <td>Compliant</td>\n",
       "      <td>NaN</td>\n",
       "      <td>NaN</td>\n",
       "      <td>14.0</td>\n",
       "      <td>NaN</td>\n",
       "      <td>31.0</td>\n",
       "      <td>18081</td>\n",
       "      <td>47.61219025</td>\n",
       "      <td>-122.33799744</td>\n",
       "      <td>405 OLIVE WAY</td>\n",
       "      <td>SEATTLE</td>\n",
       "      <td>WA</td>\n",
       "      <td>98101</td>\n",
       "    </tr>\n",
       "    <tr>\n",
       "      <th>1</th>\n",
       "      <td>2</td>\n",
       "      <td>2015</td>\n",
       "      <td>NonResidential</td>\n",
       "      <td>Hotel</td>\n",
       "      <td>PARAMOUNT HOTEL</td>\n",
       "      <td>659000220</td>\n",
       "      <td>{'latitude': '47.61310583', 'longitude': '-122...</td>\n",
       "      <td>7</td>\n",
       "      <td>DOWNTOWN</td>\n",
       "      <td>1996</td>\n",
       "      <td>1</td>\n",
       "      <td>11.0</td>\n",
       "      <td>103566</td>\n",
       "      <td>15064</td>\n",
       "      <td>88502</td>\n",
       "      <td>Hotel, Parking, Restaurant</td>\n",
       "      <td>Hotel</td>\n",
       "      <td>83880.0</td>\n",
       "      <td>Parking</td>\n",
       "      <td>15064.0</td>\n",
       "      <td>Restaurant</td>\n",
       "      <td>4622.0</td>\n",
       "      <td>NaN</td>\n",
       "      <td>51.0</td>\n",
       "      <td>94.4</td>\n",
       "      <td>99.0</td>\n",
       "      <td>191.3</td>\n",
       "      <td>195.2</td>\n",
       "      <td>8354235.0</td>\n",
       "      <td>8765788.0</td>\n",
       "      <td>0.0</td>\n",
       "      <td>1144563.0</td>\n",
       "      <td>3905411.0</td>\n",
       "      <td>44490.0</td>\n",
       "      <td>4448985.0</td>\n",
       "      <td>0.0</td>\n",
       "      <td>263.51</td>\n",
       "      <td>2.38</td>\n",
       "      <td>No</td>\n",
       "      <td>NaN</td>\n",
       "      <td>Compliant</td>\n",
       "      <td>NaN</td>\n",
       "      <td>NaN</td>\n",
       "      <td>14.0</td>\n",
       "      <td>NaN</td>\n",
       "      <td>31.0</td>\n",
       "      <td>18081</td>\n",
       "      <td>47.61310583</td>\n",
       "      <td>-122.33335756</td>\n",
       "      <td>724 PINE ST</td>\n",
       "      <td>SEATTLE</td>\n",
       "      <td>WA</td>\n",
       "      <td>98101</td>\n",
       "    </tr>\n",
       "    <tr>\n",
       "      <th>2</th>\n",
       "      <td>3</td>\n",
       "      <td>2015</td>\n",
       "      <td>NonResidential</td>\n",
       "      <td>Hotel</td>\n",
       "      <td>WESTIN HOTEL</td>\n",
       "      <td>659000475</td>\n",
       "      <td>{'latitude': '47.61334897', 'longitude': '-122...</td>\n",
       "      <td>7</td>\n",
       "      <td>DOWNTOWN</td>\n",
       "      <td>1969</td>\n",
       "      <td>1</td>\n",
       "      <td>41.0</td>\n",
       "      <td>961990</td>\n",
       "      <td>0</td>\n",
       "      <td>961990</td>\n",
       "      <td>Hotel, Parking, Swimming Pool</td>\n",
       "      <td>Hotel</td>\n",
       "      <td>757243.0</td>\n",
       "      <td>Parking</td>\n",
       "      <td>100000.0</td>\n",
       "      <td>Swimming Pool</td>\n",
       "      <td>0.0</td>\n",
       "      <td>NaN</td>\n",
       "      <td>18.0</td>\n",
       "      <td>96.6</td>\n",
       "      <td>99.7</td>\n",
       "      <td>242.7</td>\n",
       "      <td>246.5</td>\n",
       "      <td>73130656.0</td>\n",
       "      <td>75506272.0</td>\n",
       "      <td>19660404.0</td>\n",
       "      <td>14583930.0</td>\n",
       "      <td>49762435.0</td>\n",
       "      <td>37099.0</td>\n",
       "      <td>3709900.0</td>\n",
       "      <td>0.0</td>\n",
       "      <td>2061.48</td>\n",
       "      <td>1.92</td>\n",
       "      <td>Yes</td>\n",
       "      <td>NaN</td>\n",
       "      <td>Compliant</td>\n",
       "      <td>NaN</td>\n",
       "      <td>NaN</td>\n",
       "      <td>56.0</td>\n",
       "      <td>NaN</td>\n",
       "      <td>31.0</td>\n",
       "      <td>18081</td>\n",
       "      <td>47.61334897</td>\n",
       "      <td>-122.33769944</td>\n",
       "      <td>1900 5TH AVE</td>\n",
       "      <td>SEATTLE</td>\n",
       "      <td>WA</td>\n",
       "      <td>98101</td>\n",
       "    </tr>\n",
       "  </tbody>\n",
       "</table>\n",
       "</div>"
      ],
      "text/plain": [
       "   OSEBuildingID  DataYear    BuildingType PrimaryPropertyType  \\\n",
       "0              1      2015  NonResidential               Hotel   \n",
       "1              2      2015  NonResidential               Hotel   \n",
       "2              3      2015  NonResidential               Hotel   \n",
       "\n",
       "           PropertyName TaxParcelIdentificationNumber  \\\n",
       "0  MAYFLOWER PARK HOTEL                     659000030   \n",
       "1       PARAMOUNT HOTEL                     659000220   \n",
       "2          WESTIN HOTEL                     659000475   \n",
       "\n",
       "                                            Location  CouncilDistrictCode  \\\n",
       "0  {'latitude': '47.61219025', 'longitude': '-122...                    7   \n",
       "1  {'latitude': '47.61310583', 'longitude': '-122...                    7   \n",
       "2  {'latitude': '47.61334897', 'longitude': '-122...                    7   \n",
       "\n",
       "  Neighborhood  YearBuilt  NumberofBuildings  NumberofFloors  \\\n",
       "0     DOWNTOWN       1927                  1            12.0   \n",
       "1     DOWNTOWN       1996                  1            11.0   \n",
       "2     DOWNTOWN       1969                  1            41.0   \n",
       "\n",
       "   PropertyGFATotal  PropertyGFAParking  PropertyGFABuilding(s)  \\\n",
       "0             88434                   0                   88434   \n",
       "1            103566               15064                   88502   \n",
       "2            961990                   0                  961990   \n",
       "\n",
       "       ListOfAllPropertyUseTypes LargestPropertyUseType  \\\n",
       "0                          Hotel                  Hotel   \n",
       "1     Hotel, Parking, Restaurant                  Hotel   \n",
       "2  Hotel, Parking, Swimming Pool                  Hotel   \n",
       "\n",
       "   LargestPropertyUseTypeGFA SecondLargestPropertyUseType  \\\n",
       "0                    88434.0                          NaN   \n",
       "1                    83880.0                      Parking   \n",
       "2                   757243.0                      Parking   \n",
       "\n",
       "   SecondLargestPropertyUseTypeGFA ThirdLargestPropertyUseType  \\\n",
       "0                              NaN                         NaN   \n",
       "1                          15064.0                  Restaurant   \n",
       "2                         100000.0               Swimming Pool   \n",
       "\n",
       "   ThirdLargestPropertyUseTypeGFA YearsENERGYSTARCertified  ENERGYSTARScore  \\\n",
       "0                             NaN                      NaN             65.0   \n",
       "1                          4622.0                      NaN             51.0   \n",
       "2                             0.0                      NaN             18.0   \n",
       "\n",
       "   SiteEUI(kBtu/sf)  SiteEUIWN(kBtu/sf)  SourceEUI(kBtu/sf)  \\\n",
       "0              78.9                80.3               173.5   \n",
       "1              94.4                99.0               191.3   \n",
       "2              96.6                99.7               242.7   \n",
       "\n",
       "   SourceEUIWN(kBtu/sf)  SiteEnergyUse(kBtu)  SiteEnergyUseWN(kBtu)  \\\n",
       "0                 175.1            6981428.0              7097539.0   \n",
       "1                 195.2            8354235.0              8765788.0   \n",
       "2                 246.5           73130656.0             75506272.0   \n",
       "\n",
       "   SteamUse(kBtu)  Electricity(kWh)  Electricity(kBtu)  NaturalGas(therms)  \\\n",
       "0       2023032.0         1080307.0          3686160.0             12724.0   \n",
       "1             0.0         1144563.0          3905411.0             44490.0   \n",
       "2      19660404.0        14583930.0         49762435.0             37099.0   \n",
       "\n",
       "   NaturalGas(kBtu)  OtherFuelUse(kBtu)  GHGEmissions(MetricTonsCO2e)  \\\n",
       "0         1272388.0                 0.0                        249.43   \n",
       "1         4448985.0                 0.0                        263.51   \n",
       "2         3709900.0                 0.0                       2061.48   \n",
       "\n",
       "   GHGEmissionsIntensity(kgCO2e/ft2) DefaultData Comment ComplianceStatus  \\\n",
       "0                               2.64          No     NaN        Compliant   \n",
       "1                               2.38          No     NaN        Compliant   \n",
       "2                               1.92         Yes     NaN        Compliant   \n",
       "\n",
       "  Outlier  2010 Census Tracts  \\\n",
       "0     NaN                 NaN   \n",
       "1     NaN                 NaN   \n",
       "2     NaN                 NaN   \n",
       "\n",
       "   Seattle Police Department Micro Community Policing Plan Areas  \\\n",
       "0                                               14.0               \n",
       "1                                               14.0               \n",
       "2                                               56.0               \n",
       "\n",
       "   City Council Districts  SPD Beats  Zip Codes     latitude      longitude  \\\n",
       "0                     NaN       31.0      18081  47.61219025  -122.33799744   \n",
       "1                     NaN       31.0      18081  47.61310583  -122.33335756   \n",
       "2                     NaN       31.0      18081  47.61334897  -122.33769944   \n",
       "\n",
       "         address     city state    zip  \n",
       "0  405 OLIVE WAY  SEATTLE    WA  98101  \n",
       "1    724 PINE ST  SEATTLE    WA  98101  \n",
       "2   1900 5TH AVE  SEATTLE    WA  98101  "
      ]
     },
     "execution_count": 1189,
     "metadata": {},
     "output_type": "execute_result"
    }
   ],
   "source": [
    "data2015.head(3)"
   ]
  },
  {
   "cell_type": "code",
   "execution_count": 1192,
   "id": "43f39623",
   "metadata": {},
   "outputs": [
    {
     "data": {
      "text/html": [
       "<div>\n",
       "<style scoped>\n",
       "    .dataframe tbody tr th:only-of-type {\n",
       "        vertical-align: middle;\n",
       "    }\n",
       "\n",
       "    .dataframe tbody tr th {\n",
       "        vertical-align: top;\n",
       "    }\n",
       "\n",
       "    .dataframe thead th {\n",
       "        text-align: right;\n",
       "    }\n",
       "</style>\n",
       "<table border=\"1\" class=\"dataframe\">\n",
       "  <thead>\n",
       "    <tr style=\"text-align: right;\">\n",
       "      <th></th>\n",
       "      <th>Zip Codes</th>\n",
       "      <th>zip</th>\n",
       "    </tr>\n",
       "  </thead>\n",
       "  <tbody>\n",
       "    <tr>\n",
       "      <th>0</th>\n",
       "      <td>18081</td>\n",
       "      <td>98101</td>\n",
       "    </tr>\n",
       "    <tr>\n",
       "      <th>1</th>\n",
       "      <td>18081</td>\n",
       "      <td>98101</td>\n",
       "    </tr>\n",
       "    <tr>\n",
       "      <th>2</th>\n",
       "      <td>18081</td>\n",
       "      <td>98101</td>\n",
       "    </tr>\n",
       "    <tr>\n",
       "      <th>3</th>\n",
       "      <td>18081</td>\n",
       "      <td>98101</td>\n",
       "    </tr>\n",
       "    <tr>\n",
       "      <th>4</th>\n",
       "      <td>19576</td>\n",
       "      <td>98121</td>\n",
       "    </tr>\n",
       "  </tbody>\n",
       "</table>\n",
       "</div>"
      ],
      "text/plain": [
       "   Zip Codes    zip\n",
       "0      18081  98101\n",
       "1      18081  98101\n",
       "2      18081  98101\n",
       "3      18081  98101\n",
       "4      19576  98121"
      ]
     },
     "execution_count": 1192,
     "metadata": {},
     "output_type": "execute_result"
    }
   ],
   "source": [
    "data2015[[\"Zip Codes\",\"zip\"]].head(5)"
   ]
  },
  {
   "cell_type": "markdown",
   "id": "6b413d8a",
   "metadata": {},
   "source": [
    "- On remarque que la colonne Zip Codes contient des codes postales qui ne correspondent pas au code postal de la ville de Seattle qui possède des zipcodes entre 98101 et 98199 donc cette colonne va etre supprimée."
   ]
  },
  {
   "cell_type": "markdown",
   "id": "7cddb0e8",
   "metadata": {},
   "source": [
    "Je vais maintenant vérifier que les variables similaires dans la database de 2015 et 2016 sont écrites de la même façon:"
   ]
  },
  {
   "cell_type": "code",
   "execution_count": 1097,
   "id": "897e5931",
   "metadata": {},
   "outputs": [],
   "source": [
    "data2015 = data2015.rename(columns={'GHGEmissionsIntensity(kgCO2e/ft2)' : 'GHGEmissionsIntensity',\\\n",
    "                                    'GHGEmissions(MetricTonsCO2e)': 'TotalGHGEmissions',\\\n",
    "                                    'Comment':'Comments', 'zip':'ZipCode', 'latitude':'Latitude',\\\n",
    "                                    'longitude':'Longitude','address':'Address',\\\n",
    "                                    'city':'City','state':'State'})"
   ]
  },
  {
   "cell_type": "code",
   "execution_count": 1098,
   "id": "9d93d082",
   "metadata": {},
   "outputs": [],
   "source": [
    "data2015 = data2015.drop([\"Location\", \"Zip Codes\"], axis=1) \n",
    "#suppréssion de la colonne Location dont on nous avons procédé à l'extraction des données qu'elle contienne et la variable Zip Codes qui ne contient pas les codes postales de Seattle"
   ]
  },
  {
   "cell_type": "markdown",
   "id": "8d9daa66",
   "metadata": {},
   "source": [
    "- Je vais concatener les 2 datasets pour créer une seule dataset avec `pd.concat`"
   ]
  },
  {
   "cell_type": "code",
   "execution_count": 1099,
   "id": "9c0dc408",
   "metadata": {},
   "outputs": [],
   "source": [
    "new_data = pd.concat([data2015,data2016],ignore_index=True,sort=False) #La nouvelle dataset est nommée new_data"
   ]
  },
  {
   "cell_type": "code",
   "execution_count": 1100,
   "id": "ed5c7095",
   "metadata": {},
   "outputs": [
    {
     "name": "stdout",
     "output_type": "stream",
     "text": [
      "La nouvelle dataset *new_data* compte 6716 observations et 51 variables\n"
     ]
    }
   ],
   "source": [
    "print(\"La nouvelle dataset *new_data* compte {} observations et {} variables\".format(new_data.shape[0],new_data.shape[1]))"
   ]
  },
  {
   "cell_type": "markdown",
   "id": "2726c5f2",
   "metadata": {},
   "source": [
    "Maintenant, je vais appliquer la méthode `drop_duplicates()` à la dataframe afin de supprimer d'éventuelles doublons exactes"
   ]
  },
  {
   "cell_type": "code",
   "execution_count": 1101,
   "id": "5e5933e1",
   "metadata": {},
   "outputs": [],
   "source": [
    "new_data = new_data.drop_duplicates().reset_index(drop=True)"
   ]
  },
  {
   "cell_type": "code",
   "execution_count": 1102,
   "id": "2ece8e1c",
   "metadata": {},
   "outputs": [
    {
     "name": "stdout",
     "output_type": "stream",
     "text": [
      "La nouvelle dataset *new_data* compte 6716 observations et 51 variables\n"
     ]
    }
   ],
   "source": [
    "print(\"La nouvelle dataset *new_data* compte {} observations et {} variables\".format(new_data.shape[0],new_data.shape[1]))"
   ]
  },
  {
   "cell_type": "markdown",
   "id": "8a5ad5cb",
   "metadata": {},
   "source": [
    "Il n'existe pas de lignes dupliquées dans la dataframe"
   ]
  },
  {
   "cell_type": "code",
   "execution_count": 1103,
   "id": "616af2e8",
   "metadata": {},
   "outputs": [
    {
     "data": {
      "text/plain": [
       "float64    24\n",
       "object     20\n",
       "int64       7\n",
       "Name: type, dtype: int64"
      ]
     },
     "execution_count": 1103,
     "metadata": {},
     "output_type": "execute_result"
    }
   ],
   "source": [
    "type = pd.DataFrame(new_data.dtypes,columns=[\"type\"])\n",
    "type[\"type\"].value_counts()"
   ]
  },
  {
   "cell_type": "code",
   "execution_count": 1104,
   "id": "df81f481",
   "metadata": {},
   "outputs": [
    {
     "data": {
      "text/html": [
       "<div>\n",
       "<style scoped>\n",
       "    .dataframe tbody tr th:only-of-type {\n",
       "        vertical-align: middle;\n",
       "    }\n",
       "\n",
       "    .dataframe tbody tr th {\n",
       "        vertical-align: top;\n",
       "    }\n",
       "\n",
       "    .dataframe thead th {\n",
       "        text-align: right;\n",
       "    }\n",
       "</style>\n",
       "<table border=\"1\" class=\"dataframe\">\n",
       "  <thead>\n",
       "    <tr style=\"text-align: right;\">\n",
       "      <th></th>\n",
       "      <th>OSEBuildingID</th>\n",
       "      <th>DataYear</th>\n",
       "      <th>BuildingType</th>\n",
       "      <th>PrimaryPropertyType</th>\n",
       "      <th>PropertyName</th>\n",
       "      <th>TaxParcelIdentificationNumber</th>\n",
       "      <th>CouncilDistrictCode</th>\n",
       "      <th>Neighborhood</th>\n",
       "      <th>YearBuilt</th>\n",
       "      <th>NumberofBuildings</th>\n",
       "      <th>NumberofFloors</th>\n",
       "      <th>PropertyGFATotal</th>\n",
       "      <th>PropertyGFAParking</th>\n",
       "      <th>PropertyGFABuilding(s)</th>\n",
       "      <th>ListOfAllPropertyUseTypes</th>\n",
       "      <th>LargestPropertyUseType</th>\n",
       "      <th>LargestPropertyUseTypeGFA</th>\n",
       "      <th>SecondLargestPropertyUseType</th>\n",
       "      <th>SecondLargestPropertyUseTypeGFA</th>\n",
       "      <th>ThirdLargestPropertyUseType</th>\n",
       "      <th>ThirdLargestPropertyUseTypeGFA</th>\n",
       "      <th>YearsENERGYSTARCertified</th>\n",
       "      <th>ENERGYSTARScore</th>\n",
       "      <th>SiteEUI(kBtu/sf)</th>\n",
       "      <th>SiteEUIWN(kBtu/sf)</th>\n",
       "      <th>SourceEUI(kBtu/sf)</th>\n",
       "      <th>SourceEUIWN(kBtu/sf)</th>\n",
       "      <th>SiteEnergyUse(kBtu)</th>\n",
       "      <th>SiteEnergyUseWN(kBtu)</th>\n",
       "      <th>SteamUse(kBtu)</th>\n",
       "      <th>Electricity(kWh)</th>\n",
       "      <th>Electricity(kBtu)</th>\n",
       "      <th>NaturalGas(therms)</th>\n",
       "      <th>NaturalGas(kBtu)</th>\n",
       "      <th>OtherFuelUse(kBtu)</th>\n",
       "      <th>TotalGHGEmissions</th>\n",
       "      <th>GHGEmissionsIntensity</th>\n",
       "      <th>DefaultData</th>\n",
       "      <th>Comments</th>\n",
       "      <th>ComplianceStatus</th>\n",
       "      <th>Outlier</th>\n",
       "      <th>2010 Census Tracts</th>\n",
       "      <th>Seattle Police Department Micro Community Policing Plan Areas</th>\n",
       "      <th>City Council Districts</th>\n",
       "      <th>SPD Beats</th>\n",
       "      <th>Latitude</th>\n",
       "      <th>Longitude</th>\n",
       "      <th>Address</th>\n",
       "      <th>City</th>\n",
       "      <th>State</th>\n",
       "      <th>ZipCode</th>\n",
       "    </tr>\n",
       "  </thead>\n",
       "  <tbody>\n",
       "    <tr>\n",
       "      <th>0</th>\n",
       "      <td>1</td>\n",
       "      <td>2015</td>\n",
       "      <td>NonResidential</td>\n",
       "      <td>Hotel</td>\n",
       "      <td>MAYFLOWER PARK HOTEL</td>\n",
       "      <td>659000030</td>\n",
       "      <td>7</td>\n",
       "      <td>DOWNTOWN</td>\n",
       "      <td>1927</td>\n",
       "      <td>1.0</td>\n",
       "      <td>12.0</td>\n",
       "      <td>88434</td>\n",
       "      <td>0</td>\n",
       "      <td>88434</td>\n",
       "      <td>Hotel</td>\n",
       "      <td>Hotel</td>\n",
       "      <td>88434.0</td>\n",
       "      <td>NaN</td>\n",
       "      <td>NaN</td>\n",
       "      <td>NaN</td>\n",
       "      <td>NaN</td>\n",
       "      <td>NaN</td>\n",
       "      <td>65.0</td>\n",
       "      <td>78.9</td>\n",
       "      <td>80.3</td>\n",
       "      <td>173.5</td>\n",
       "      <td>175.1</td>\n",
       "      <td>6981428.0</td>\n",
       "      <td>7097539.0</td>\n",
       "      <td>2023032.0</td>\n",
       "      <td>1080307.0</td>\n",
       "      <td>3686160.0</td>\n",
       "      <td>12724.0</td>\n",
       "      <td>1272388.0</td>\n",
       "      <td>0.0</td>\n",
       "      <td>249.43</td>\n",
       "      <td>2.64</td>\n",
       "      <td>No</td>\n",
       "      <td>NaN</td>\n",
       "      <td>Compliant</td>\n",
       "      <td>NaN</td>\n",
       "      <td>NaN</td>\n",
       "      <td>14.0</td>\n",
       "      <td>NaN</td>\n",
       "      <td>31.0</td>\n",
       "      <td>47.61219025</td>\n",
       "      <td>-122.33799744</td>\n",
       "      <td>405 OLIVE WAY</td>\n",
       "      <td>SEATTLE</td>\n",
       "      <td>WA</td>\n",
       "      <td>98101</td>\n",
       "    </tr>\n",
       "    <tr>\n",
       "      <th>1</th>\n",
       "      <td>2</td>\n",
       "      <td>2015</td>\n",
       "      <td>NonResidential</td>\n",
       "      <td>Hotel</td>\n",
       "      <td>PARAMOUNT HOTEL</td>\n",
       "      <td>659000220</td>\n",
       "      <td>7</td>\n",
       "      <td>DOWNTOWN</td>\n",
       "      <td>1996</td>\n",
       "      <td>1.0</td>\n",
       "      <td>11.0</td>\n",
       "      <td>103566</td>\n",
       "      <td>15064</td>\n",
       "      <td>88502</td>\n",
       "      <td>Hotel, Parking, Restaurant</td>\n",
       "      <td>Hotel</td>\n",
       "      <td>83880.0</td>\n",
       "      <td>Parking</td>\n",
       "      <td>15064.0</td>\n",
       "      <td>Restaurant</td>\n",
       "      <td>4622.0</td>\n",
       "      <td>NaN</td>\n",
       "      <td>51.0</td>\n",
       "      <td>94.4</td>\n",
       "      <td>99.0</td>\n",
       "      <td>191.3</td>\n",
       "      <td>195.2</td>\n",
       "      <td>8354235.0</td>\n",
       "      <td>8765788.0</td>\n",
       "      <td>0.0</td>\n",
       "      <td>1144563.0</td>\n",
       "      <td>3905411.0</td>\n",
       "      <td>44490.0</td>\n",
       "      <td>4448985.0</td>\n",
       "      <td>0.0</td>\n",
       "      <td>263.51</td>\n",
       "      <td>2.38</td>\n",
       "      <td>No</td>\n",
       "      <td>NaN</td>\n",
       "      <td>Compliant</td>\n",
       "      <td>NaN</td>\n",
       "      <td>NaN</td>\n",
       "      <td>14.0</td>\n",
       "      <td>NaN</td>\n",
       "      <td>31.0</td>\n",
       "      <td>47.61310583</td>\n",
       "      <td>-122.33335756</td>\n",
       "      <td>724 PINE ST</td>\n",
       "      <td>SEATTLE</td>\n",
       "      <td>WA</td>\n",
       "      <td>98101</td>\n",
       "    </tr>\n",
       "    <tr>\n",
       "      <th>2</th>\n",
       "      <td>3</td>\n",
       "      <td>2015</td>\n",
       "      <td>NonResidential</td>\n",
       "      <td>Hotel</td>\n",
       "      <td>WESTIN HOTEL</td>\n",
       "      <td>659000475</td>\n",
       "      <td>7</td>\n",
       "      <td>DOWNTOWN</td>\n",
       "      <td>1969</td>\n",
       "      <td>1.0</td>\n",
       "      <td>41.0</td>\n",
       "      <td>961990</td>\n",
       "      <td>0</td>\n",
       "      <td>961990</td>\n",
       "      <td>Hotel, Parking, Swimming Pool</td>\n",
       "      <td>Hotel</td>\n",
       "      <td>757243.0</td>\n",
       "      <td>Parking</td>\n",
       "      <td>100000.0</td>\n",
       "      <td>Swimming Pool</td>\n",
       "      <td>0.0</td>\n",
       "      <td>NaN</td>\n",
       "      <td>18.0</td>\n",
       "      <td>96.6</td>\n",
       "      <td>99.7</td>\n",
       "      <td>242.7</td>\n",
       "      <td>246.5</td>\n",
       "      <td>73130656.0</td>\n",
       "      <td>75506272.0</td>\n",
       "      <td>19660404.0</td>\n",
       "      <td>14583930.0</td>\n",
       "      <td>49762435.0</td>\n",
       "      <td>37099.0</td>\n",
       "      <td>3709900.0</td>\n",
       "      <td>0.0</td>\n",
       "      <td>2061.48</td>\n",
       "      <td>1.92</td>\n",
       "      <td>Yes</td>\n",
       "      <td>NaN</td>\n",
       "      <td>Compliant</td>\n",
       "      <td>NaN</td>\n",
       "      <td>NaN</td>\n",
       "      <td>56.0</td>\n",
       "      <td>NaN</td>\n",
       "      <td>31.0</td>\n",
       "      <td>47.61334897</td>\n",
       "      <td>-122.33769944</td>\n",
       "      <td>1900 5TH AVE</td>\n",
       "      <td>SEATTLE</td>\n",
       "      <td>WA</td>\n",
       "      <td>98101</td>\n",
       "    </tr>\n",
       "  </tbody>\n",
       "</table>\n",
       "</div>"
      ],
      "text/plain": [
       "   OSEBuildingID  DataYear    BuildingType PrimaryPropertyType  \\\n",
       "0              1      2015  NonResidential               Hotel   \n",
       "1              2      2015  NonResidential               Hotel   \n",
       "2              3      2015  NonResidential               Hotel   \n",
       "\n",
       "           PropertyName TaxParcelIdentificationNumber  CouncilDistrictCode  \\\n",
       "0  MAYFLOWER PARK HOTEL                     659000030                    7   \n",
       "1       PARAMOUNT HOTEL                     659000220                    7   \n",
       "2          WESTIN HOTEL                     659000475                    7   \n",
       "\n",
       "  Neighborhood  YearBuilt  NumberofBuildings  NumberofFloors  \\\n",
       "0     DOWNTOWN       1927                1.0            12.0   \n",
       "1     DOWNTOWN       1996                1.0            11.0   \n",
       "2     DOWNTOWN       1969                1.0            41.0   \n",
       "\n",
       "   PropertyGFATotal  PropertyGFAParking  PropertyGFABuilding(s)  \\\n",
       "0             88434                   0                   88434   \n",
       "1            103566               15064                   88502   \n",
       "2            961990                   0                  961990   \n",
       "\n",
       "       ListOfAllPropertyUseTypes LargestPropertyUseType  \\\n",
       "0                          Hotel                  Hotel   \n",
       "1     Hotel, Parking, Restaurant                  Hotel   \n",
       "2  Hotel, Parking, Swimming Pool                  Hotel   \n",
       "\n",
       "   LargestPropertyUseTypeGFA SecondLargestPropertyUseType  \\\n",
       "0                    88434.0                          NaN   \n",
       "1                    83880.0                      Parking   \n",
       "2                   757243.0                      Parking   \n",
       "\n",
       "   SecondLargestPropertyUseTypeGFA ThirdLargestPropertyUseType  \\\n",
       "0                              NaN                         NaN   \n",
       "1                          15064.0                  Restaurant   \n",
       "2                         100000.0               Swimming Pool   \n",
       "\n",
       "   ThirdLargestPropertyUseTypeGFA YearsENERGYSTARCertified  ENERGYSTARScore  \\\n",
       "0                             NaN                      NaN             65.0   \n",
       "1                          4622.0                      NaN             51.0   \n",
       "2                             0.0                      NaN             18.0   \n",
       "\n",
       "   SiteEUI(kBtu/sf)  SiteEUIWN(kBtu/sf)  SourceEUI(kBtu/sf)  \\\n",
       "0              78.9                80.3               173.5   \n",
       "1              94.4                99.0               191.3   \n",
       "2              96.6                99.7               242.7   \n",
       "\n",
       "   SourceEUIWN(kBtu/sf)  SiteEnergyUse(kBtu)  SiteEnergyUseWN(kBtu)  \\\n",
       "0                 175.1            6981428.0              7097539.0   \n",
       "1                 195.2            8354235.0              8765788.0   \n",
       "2                 246.5           73130656.0             75506272.0   \n",
       "\n",
       "   SteamUse(kBtu)  Electricity(kWh)  Electricity(kBtu)  NaturalGas(therms)  \\\n",
       "0       2023032.0         1080307.0          3686160.0             12724.0   \n",
       "1             0.0         1144563.0          3905411.0             44490.0   \n",
       "2      19660404.0        14583930.0         49762435.0             37099.0   \n",
       "\n",
       "   NaturalGas(kBtu)  OtherFuelUse(kBtu)  TotalGHGEmissions  \\\n",
       "0         1272388.0                 0.0             249.43   \n",
       "1         4448985.0                 0.0             263.51   \n",
       "2         3709900.0                 0.0            2061.48   \n",
       "\n",
       "   GHGEmissionsIntensity DefaultData Comments ComplianceStatus Outlier  \\\n",
       "0                   2.64          No      NaN        Compliant     NaN   \n",
       "1                   2.38          No      NaN        Compliant     NaN   \n",
       "2                   1.92         Yes      NaN        Compliant     NaN   \n",
       "\n",
       "   2010 Census Tracts  \\\n",
       "0                 NaN   \n",
       "1                 NaN   \n",
       "2                 NaN   \n",
       "\n",
       "   Seattle Police Department Micro Community Policing Plan Areas  \\\n",
       "0                                               14.0               \n",
       "1                                               14.0               \n",
       "2                                               56.0               \n",
       "\n",
       "   City Council Districts  SPD Beats     Latitude      Longitude  \\\n",
       "0                     NaN       31.0  47.61219025  -122.33799744   \n",
       "1                     NaN       31.0  47.61310583  -122.33335756   \n",
       "2                     NaN       31.0  47.61334897  -122.33769944   \n",
       "\n",
       "         Address     City State ZipCode  \n",
       "0  405 OLIVE WAY  SEATTLE    WA   98101  \n",
       "1    724 PINE ST  SEATTLE    WA   98101  \n",
       "2   1900 5TH AVE  SEATTLE    WA   98101  "
      ]
     },
     "execution_count": 1104,
     "metadata": {},
     "output_type": "execute_result"
    }
   ],
   "source": [
    "new_data.head(3)"
   ]
  },
  {
   "cell_type": "markdown",
   "id": "6d842a6c",
   "metadata": {},
   "source": [
    "- Notre équipe s’intéresse de près aux émissions des bâtiments non destinés à l’habitation. Donc je vais appliquer un filtre pour récupérer seulement les observations correspondantes aux bâtiments non destinés à l’habitation."
   ]
  },
  {
   "cell_type": "code",
   "execution_count": 1193,
   "id": "95e44cb2",
   "metadata": {},
   "outputs": [
    {
     "name": "stdout",
     "output_type": "stream",
     "text": [
      "Après la supression des observations correspondantes aux batiments destinées à l'habitation,la dataframe compte 3075 observations et 51 variables\n"
     ]
    }
   ],
   "source": [
    "data_NR = new_data[new_data[\"BuildingType\"].str.contains(\"NonResidential|Nonresidential COS|Nonresidential WA\")]\n",
    "print(\"Après la supression des observations correspondantes aux batiments destinées à l'habitation,\\\n",
    "la dataframe compte {} observations et {} variables\".format(data_NR.shape[0],data_NR.shape[1]))"
   ]
  },
  {
   "cell_type": "markdown",
   "id": "f5bd3295",
   "metadata": {},
   "source": [
    "### Taux de données manquantes "
   ]
  },
  {
   "cell_type": "code",
   "execution_count": 1106,
   "id": "fefc0c8b",
   "metadata": {},
   "outputs": [
    {
     "data": {
      "text/plain": [
       "Text(0.5, 1.0, 'Taux de données manquantes')"
      ]
     },
     "execution_count": 1106,
     "metadata": {},
     "output_type": "execute_result"
    },
    {
     "data": {
      "image/png": "[encoded data removed]",
      "text/plain": [
       "<Figure size 1152x504 with 1 Axes>"
      ]
     },
     "metadata": {},
     "output_type": "display_data"
    }
   ],
   "source": [
    "missing_data = round(data_NR.isna().sum()*100/len(data_NR),1)\n",
    "missing_data = pd.DataFrame(missing_data.reset_index())\n",
    "missing_data.columns=[\"variable\",\"données manquantes\"]\n",
    "missing_data = missing_data.sort_values(by=\"données manquantes\",ascending=False)\n",
    "missing_data1 = missing_data\n",
    "fig = missing_data1.sort_values(by=\"données manquantes\",ascending=True).plot.bar(x=\"variable\", y=\"données manquantes\",figsize=(16,7),color=\"coral\",width=0.7)\n",
    "plt.xlabel('Pourcentage de données manquantes',fontsize=14)\n",
    "plt.ylabel('Variables', fontsize=14)\n",
    "fig.set_title(\"Taux de données manquantes\",fontsize=16) "
   ]
  },
  {
   "cell_type": "code",
   "execution_count": 1107,
   "id": "a1fc8077",
   "metadata": {},
   "outputs": [
    {
     "name": "stdout",
     "output_type": "stream",
     "text": [
      "39/51 variables contiennent entre 0 et 50% de valeurs manquantes\n"
     ]
    }
   ],
   "source": [
    "missing_new_data_50p = missing_new_data[missing_new_data[\"données manquantes\"].between(0,50)]\n",
    "missing_new_data_50p.shape\n",
    "print(\"{}/{} variables contiennent entre 0 et 50% de valeurs manquantes\".format(missing_new_data_50p.shape[0],new_data.shape[1]))"
   ]
  },
  {
   "cell_type": "code",
   "execution_count": 1108,
   "id": "2ba6a34a",
   "metadata": {},
   "outputs": [
    {
     "name": "stdout",
     "output_type": "stream",
     "text": [
      "12/51 variables contiennent entre 50 et 100% de valeurs manquantes\n"
     ]
    }
   ],
   "source": [
    "missing_new_data_100p = missing_new_data[missing_new_data[\"données manquantes\"].between(50,100)]\n",
    "missing_new_data_100p.shape\n",
    "print(\"{}/{} variables contiennent entre 50 et 100% de valeurs manquantes\".format(missing_new_data_100p.shape[0],new_data.shape[1]))"
   ]
  },
  {
   "cell_type": "code",
   "execution_count": 1109,
   "id": "29a599da",
   "metadata": {},
   "outputs": [
    {
     "name": "stdout",
     "output_type": "stream",
     "text": [
      "7/51 variables contiennent plus de 60% de valeurs manquantes\n"
     ]
    }
   ],
   "source": [
    "missing_new_data_60p = missing_new_data[missing_new_data[\"données manquantes\"] >60]\n",
    "missing_new_data_60p.shape\n",
    "print(\"{}/{} variables contiennent plus de 60% de valeurs manquantes\".format(missing_new_data_60p.shape[0],new_data.shape[1]))"
   ]
  },
  {
   "cell_type": "markdown",
   "id": "4bcc6a97",
   "metadata": {},
   "source": [
    "### Sélection de variables"
   ]
  },
  {
   "cell_type": "markdown",
   "id": "6dda7179",
   "metadata": {},
   "source": [
    "- Les données déclaratives suivantes sont séléctionnées pour faire la prédiction des émissions totales de CO2 **`TotalGHGEmissions`** et de consommations totales d'énergie **`SiteEnergyUseWN(kBtu)`** : `PrimaryPropertyType`, `Neighborhood`, `YearBuilt`, `NumberofBuildings`, `NumberofFloors`, `PropertyGFATotal`, `PropertyGFABuilding(s)`,`LargestPropertyUseType`,`LargestPropertyUseTypeGFA`,`ENERGYSTARScore`,`ZipCode`.   "
   ]
  },
  {
   "cell_type": "markdown",
   "id": "7e4a999a",
   "metadata": {},
   "source": [
    "- Certaines de ces variables présentes un taux très faible de données manquantes < 2.5% (exemple : `LargestPropertyUseType` et `ZipCode`. Les quelques observations manquantes vont etre supprimés pour ces variables. "
   ]
  },
  {
   "cell_type": "code",
   "execution_count": 1110,
   "id": "3fa4f07d",
   "metadata": {},
   "outputs": [
    {
     "data": {
      "text/plain": [
       "variable              ENERGYSTARScore\n",
       "données manquantes               34.0\n",
       "Name: 22, dtype: object"
      ]
     },
     "execution_count": 1110,
     "metadata": {},
     "output_type": "execute_result"
    }
   ],
   "source": [
    "missing_data.iloc[12]"
   ]
  },
  {
   "cell_type": "markdown",
   "id": "ede2e4b7",
   "metadata": {},
   "source": [
    "- La variable `ENERGYSTARScore` présente un taux de données manqantes = 34%, les valeurs manquantes de cette variables seront imputées avec l'algorithme `MissForest`. "
   ]
  },
  {
   "cell_type": "code",
   "execution_count": 1111,
   "id": "2924a6ea",
   "metadata": {},
   "outputs": [],
   "source": [
    "variables = [\"PrimaryPropertyType\", \"Neighborhood\", \"YearBuilt\", \"NumberofBuildings\", \"NumberofFloors\", \"PropertyGFATotal\", \"PropertyGFABuilding(s)\",\"LargestPropertyUseType\",\"LargestPropertyUseTypeGFA\",\"ZipCode\",\"TotalGHGEmissions\",\"SiteEnergyUseWN(kBtu)\"]"
   ]
  },
  {
   "cell_type": "code",
   "execution_count": 1112,
   "id": "ae4fd29d",
   "metadata": {},
   "outputs": [],
   "source": [
    "data_pred = data_NR[variables]\n",
    "data_pred = pd.concat([data_pred,data_NR[\"ENERGYSTARScore\"]],axis=1)\n",
    "data_pred = data_pred.dropna(subset=[\"PrimaryPropertyType\", \"Neighborhood\", \"YearBuilt\", \"NumberofBuildings\", \"NumberofFloors\", \"PropertyGFATotal\", \"PropertyGFABuilding(s)\",\"LargestPropertyUseType\",\"LargestPropertyUseTypeGFA\",\"ZipCode\",\"TotalGHGEmissions\",\"SiteEnergyUseWN(kBtu)\"])"
   ]
  },
  {
   "cell_type": "code",
   "execution_count": 1113,
   "id": "71f2b559",
   "metadata": {},
   "outputs": [
    {
     "data": {
      "text/html": [
       "<div>\n",
       "<style scoped>\n",
       "    .dataframe tbody tr th:only-of-type {\n",
       "        vertical-align: middle;\n",
       "    }\n",
       "\n",
       "    .dataframe tbody tr th {\n",
       "        vertical-align: top;\n",
       "    }\n",
       "\n",
       "    .dataframe thead th {\n",
       "        text-align: right;\n",
       "    }\n",
       "</style>\n",
       "<table border=\"1\" class=\"dataframe\">\n",
       "  <thead>\n",
       "    <tr style=\"text-align: right;\">\n",
       "      <th></th>\n",
       "      <th>PrimaryPropertyType</th>\n",
       "      <th>Neighborhood</th>\n",
       "      <th>YearBuilt</th>\n",
       "      <th>NumberofBuildings</th>\n",
       "      <th>NumberofFloors</th>\n",
       "      <th>PropertyGFATotal</th>\n",
       "      <th>PropertyGFABuilding(s)</th>\n",
       "      <th>LargestPropertyUseType</th>\n",
       "      <th>LargestPropertyUseTypeGFA</th>\n",
       "      <th>ZipCode</th>\n",
       "      <th>TotalGHGEmissions</th>\n",
       "      <th>SiteEnergyUseWN(kBtu)</th>\n",
       "      <th>ENERGYSTARScore</th>\n",
       "    </tr>\n",
       "  </thead>\n",
       "  <tbody>\n",
       "    <tr>\n",
       "      <th>0</th>\n",
       "      <td>Hotel</td>\n",
       "      <td>DOWNTOWN</td>\n",
       "      <td>1927</td>\n",
       "      <td>1.0</td>\n",
       "      <td>12.0</td>\n",
       "      <td>88434</td>\n",
       "      <td>88434</td>\n",
       "      <td>Hotel</td>\n",
       "      <td>88434.0</td>\n",
       "      <td>98101</td>\n",
       "      <td>249.43</td>\n",
       "      <td>7097539.0</td>\n",
       "      <td>65.0</td>\n",
       "    </tr>\n",
       "    <tr>\n",
       "      <th>1</th>\n",
       "      <td>Hotel</td>\n",
       "      <td>DOWNTOWN</td>\n",
       "      <td>1996</td>\n",
       "      <td>1.0</td>\n",
       "      <td>11.0</td>\n",
       "      <td>103566</td>\n",
       "      <td>88502</td>\n",
       "      <td>Hotel</td>\n",
       "      <td>83880.0</td>\n",
       "      <td>98101</td>\n",
       "      <td>263.51</td>\n",
       "      <td>8765788.0</td>\n",
       "      <td>51.0</td>\n",
       "    </tr>\n",
       "    <tr>\n",
       "      <th>2</th>\n",
       "      <td>Hotel</td>\n",
       "      <td>DOWNTOWN</td>\n",
       "      <td>1969</td>\n",
       "      <td>1.0</td>\n",
       "      <td>41.0</td>\n",
       "      <td>961990</td>\n",
       "      <td>961990</td>\n",
       "      <td>Hotel</td>\n",
       "      <td>757243.0</td>\n",
       "      <td>98101</td>\n",
       "      <td>2061.48</td>\n",
       "      <td>75506272.0</td>\n",
       "      <td>18.0</td>\n",
       "    </tr>\n",
       "  </tbody>\n",
       "</table>\n",
       "</div>"
      ],
      "text/plain": [
       "  PrimaryPropertyType Neighborhood  YearBuilt  NumberofBuildings  \\\n",
       "0               Hotel     DOWNTOWN       1927                1.0   \n",
       "1               Hotel     DOWNTOWN       1996                1.0   \n",
       "2               Hotel     DOWNTOWN       1969                1.0   \n",
       "\n",
       "   NumberofFloors  PropertyGFATotal  PropertyGFABuilding(s)  \\\n",
       "0            12.0             88434                   88434   \n",
       "1            11.0            103566                   88502   \n",
       "2            41.0            961990                  961990   \n",
       "\n",
       "  LargestPropertyUseType  LargestPropertyUseTypeGFA ZipCode  \\\n",
       "0                  Hotel                    88434.0   98101   \n",
       "1                  Hotel                    83880.0   98101   \n",
       "2                  Hotel                   757243.0   98101   \n",
       "\n",
       "   TotalGHGEmissions  SiteEnergyUseWN(kBtu)  ENERGYSTARScore  \n",
       "0             249.43              7097539.0             65.0  \n",
       "1             263.51              8765788.0             51.0  \n",
       "2            2061.48             75506272.0             18.0  "
      ]
     },
     "execution_count": 1113,
     "metadata": {},
     "output_type": "execute_result"
    }
   ],
   "source": [
    "data_pred.head(3)"
   ]
  },
  {
   "cell_type": "code",
   "execution_count": 1114,
   "id": "ab3bcfcd",
   "metadata": {},
   "outputs": [
    {
     "name": "stdout",
     "output_type": "stream",
     "text": [
      "La dataframe compte maintenant 2983 observations et 13 variables\n"
     ]
    }
   ],
   "source": [
    "print(\"La dataframe compte maintenant {} observations et {} variables\".format(data_pred.shape[0],data_pred.shape[1]))"
   ]
  },
  {
   "cell_type": "code",
   "execution_count": 1115,
   "id": "b11174fb",
   "metadata": {},
   "outputs": [
    {
     "data": {
      "image/png": "[encoded data removed]",
      "text/plain": [
       "<Figure size 576x576 with 2 Axes>"
      ]
     },
     "metadata": {},
     "output_type": "display_data"
    }
   ],
   "source": [
    "variables_quantitatives = [\"PrimaryPropertyType\", \"Neighborhood\", \"YearBuilt\", \"NumberofBuildings\", \"NumberofFloors\", \"PropertyGFATotal\", \"PropertyGFABuilding(s)\",\"LargestPropertyUseType\",\"LargestPropertyUseTypeGFA\",\"ZipCode\",\"TotalGHGEmissions\",\"SiteEnergyUseWN(kBtu)\",\"ENERGYSTARScore\"]\n",
    "plt.figure(figsize=(8, 8))\n",
    "sns.heatmap(data_pred[variables_quantitatives].corr(), annot=True, square=True, linewidths=.5, annot_kws={\"size\":15})\n",
    "plt.show()"
   ]
  },
  {
   "cell_type": "markdown",
   "id": "26ccc58b",
   "metadata": {},
   "source": [
    "- On remarque que les variables `PropertyGFATotal`, `PropertyGFABuilding(s)`, `LargestPropertyUseTypeGFA` sont très corrélés donc seulement la variable `PropertyGFATotal`va être retenu pour notre modèle."
   ]
  },
  {
   "cell_type": "code",
   "execution_count": 1116,
   "id": "0efcea66",
   "metadata": {},
   "outputs": [],
   "source": [
    "variables2 = [\"PrimaryPropertyType\", \"Neighborhood\", \"YearBuilt\", \"NumberofBuildings\", \"NumberofFloors\", \"PropertyGFATotal\",\"ZipCode\",\"TotalGHGEmissions\",\"SiteEnergyUseWN(kBtu)\"]\n",
    "data_pred = data_NR[variables2]\n",
    "data_pred = pd.concat([data_pred,data_NR[\"ENERGYSTARScore\"]],axis=1)\n",
    "data_pred = data_pred.dropna(subset=[\"PrimaryPropertyType\", \"Neighborhood\", \"YearBuilt\", \"NumberofBuildings\", \"NumberofFloors\", \"PropertyGFATotal\",\"ZipCode\",\"TotalGHGEmissions\",\"SiteEnergyUseWN(kBtu)\"])"
   ]
  },
  {
   "cell_type": "code",
   "execution_count": 1117,
   "id": "7c43db1d",
   "metadata": {},
   "outputs": [
    {
     "name": "stdout",
     "output_type": "stream",
     "text": [
      "La dataframe finale qui va être utilisée pour les modèles de prédiction compte \n",
      "maintenant 3048 observations et 10 variables\n"
     ]
    }
   ],
   "source": [
    "print(\"La dataframe finale qui va être utilisée pour les modèles de prédiction compte \\nmaintenant {} observations et {} variables\".format(data_pred.shape[0],data_pred.shape[1]))"
   ]
  },
  {
   "cell_type": "markdown",
   "id": "a788642d",
   "metadata": {},
   "source": [
    "### Imputation des valeurs manquantes"
   ]
  },
  {
   "cell_type": "markdown",
   "id": "6daab85a",
   "metadata": {},
   "source": [
    "- Je vais maintenant utiliser l'algorithme `MissForest` pour imputer les valeurs manquantes de la variable `ENERGYSTARScore` en utilisant les variables numériques (continues et discrètes)."
   ]
  },
  {
   "cell_type": "code",
   "execution_count": 1118,
   "id": "fec6b31b",
   "metadata": {},
   "outputs": [
    {
     "name": "stdout",
     "output_type": "stream",
     "text": [
      "Iteration: 0\n",
      "Iteration: 1\n",
      "Iteration: 2\n"
     ]
    }
   ],
   "source": [
    "variables_numériques = [\"YearBuilt\", \"NumberofBuildings\", \"NumberofFloors\", \"PropertyGFATotal\",\"ZipCode\",\"TotalGHGEmissions\",\"SiteEnergyUseWN(kBtu)\",\"ENERGYSTARScore\"]\n",
    "data_impute_ENERGYSTARScore = data_pred[variables_numériques]\n",
    "imputer = MissForest(criterion='squared_error',random_state=42)\n",
    "data_pred_filled = pd.DataFrame(imputer.fit_transform(data_impute_ENERGYSTARScore))"
   ]
  },
  {
   "cell_type": "code",
   "execution_count": 1119,
   "id": "d9d6283f",
   "metadata": {},
   "outputs": [],
   "source": [
    "data_pred_filled.columns = [\"YearBuilt\", \"NumberofBuildings\", \"NumberofFloors\", \"PropertyGFATotal\",\"ZipCode\",\"TotalGHGEmissions\",\"SiteEnergyUseWN(kBtu)\",\"ENERGYSTARScore\"]"
   ]
  },
  {
   "cell_type": "code",
   "execution_count": 1120,
   "id": "a9e12d50",
   "metadata": {},
   "outputs": [],
   "source": [
    "data_pred_qualitatives = data_pred[[\"PrimaryPropertyType\", \"Neighborhood\"]].reset_index(drop=True)\n",
    "data_pred_final = pd.concat([data_pred_qualitatives,data_pred_filled],axis=1)"
   ]
  },
  {
   "cell_type": "code",
   "execution_count": 1121,
   "id": "427fbfb1",
   "metadata": {},
   "outputs": [],
   "source": [
    "missing_data_pred = round(data_pred_final.isna().sum()*100/len(data_pred_final),1)"
   ]
  },
  {
   "cell_type": "code",
   "execution_count": 1122,
   "id": "fb588acc",
   "metadata": {},
   "outputs": [
    {
     "data": {
      "text/plain": [
       "PrimaryPropertyType      0.0\n",
       "Neighborhood             0.0\n",
       "YearBuilt                0.0\n",
       "NumberofBuildings        0.0\n",
       "NumberofFloors           0.0\n",
       "PropertyGFATotal         0.0\n",
       "ZipCode                  0.0\n",
       "TotalGHGEmissions        0.0\n",
       "SiteEnergyUseWN(kBtu)    0.0\n",
       "ENERGYSTARScore          0.0\n",
       "dtype: float64"
      ]
     },
     "execution_count": 1122,
     "metadata": {},
     "output_type": "execute_result"
    }
   ],
   "source": [
    "missing_data_pred"
   ]
  },
  {
   "cell_type": "markdown",
   "id": "471b4f59",
   "metadata": {},
   "source": [
    "### Nettoyage de données textuelles "
   ]
  },
  {
   "cell_type": "markdown",
   "id": "a391ce93",
   "metadata": {},
   "source": [
    "Je vais regrouper tout les valeurs de la variable `PrimaryPropertyType` qui correspondent au même type :"
   ]
  },
  {
   "cell_type": "code",
   "execution_count": 1123,
   "id": "6aa7ce6b",
   "metadata": {},
   "outputs": [
    {
     "data": {
      "text/plain": [
       "array(['Hotel', 'Other', 'Mixed Use Property', 'College/University',\n",
       "       'Small- and Mid-Sized Office', 'Self-Storage Facility\\n',\n",
       "       'Distribution Center', 'K-12 School', 'Large Office',\n",
       "       'Retail Store', 'Senior Care Community', 'Medical Office',\n",
       "       'Hospital', 'Residence Hall/Dormitory',\n",
       "       'Non-Refrigerated Warehouse', 'Distribution Center\\n',\n",
       "       'Worship Facility', 'Supermarket/Grocery Store', 'Laboratory',\n",
       "       'Self-Storage Facility', 'Refrigerated Warehouse', 'Restaurant\\n',\n",
       "       'Low-Rise Multifamily', 'Restaurant', 'University', 'Warehouse',\n",
       "       'Residence Hall', 'Supermarket / Grocery Store'], dtype=object)"
      ]
     },
     "execution_count": 1123,
     "metadata": {},
     "output_type": "execute_result"
    }
   ],
   "source": [
    "data_pred_final[\"PrimaryPropertyType\"].unique()"
   ]
  },
  {
   "cell_type": "code",
   "execution_count": 1124,
   "id": "68d94a65",
   "metadata": {},
   "outputs": [],
   "source": [
    "data_pred_final = data_pred_final.replace(to_replace =[\"University\",\"K-12 School\",\"College/University\"],value =\"School/College/University\")\n",
    "data_pred_final = data_pred_final.replace(to_replace =[\"Small- and Mid-Sized Office\",\"Large Office\",\"Medical Office\"],value =\"Office\")\n",
    "data_pred_final = data_pred_final.replace(to_replace =[\"Non-Refrigerated Warehouse\",\"Refrigerated Warehouse\",\"Warehouse\"],value =\"Warehouse\")\n",
    "data_pred_final = data_pred_final.replace(to_replace =[\"Supermarket / Grocery Store\"],value =\"Supermarket/Grocery Store\")\n",
    "data_pred_final = data_pred_final.replace(to_replace =[\"Self-Storage Facility\\n\"],value =\"Self-Storage Facility\")\n",
    "data_pred_final = data_pred_final.replace(to_replace =[\"Restaurant\\n\"],value =\"Restaurant\")\n",
    "data_pred_final = data_pred_final.replace(to_replace =[\"Residence Hall\"],value =\"Residence Hall/Dormitory\")\n",
    "data_pred_final = data_pred_final.replace(to_replace =[\"Distribution Center\\n\"],value =\"Distribution Center\")"
   ]
  },
  {
   "cell_type": "code",
   "execution_count": 1125,
   "id": "87594b01",
   "metadata": {},
   "outputs": [
    {
     "data": {
      "text/plain": [
       "array(['Hotel', 'Other', 'Mixed Use Property',\n",
       "       'School/College/University', 'Office', 'Self-Storage Facility',\n",
       "       'Distribution Center', 'Retail Store', 'Senior Care Community',\n",
       "       'Hospital', 'Residence Hall/Dormitory', 'Warehouse',\n",
       "       'Worship Facility', 'Supermarket/Grocery Store', 'Laboratory',\n",
       "       'Restaurant', 'Low-Rise Multifamily'], dtype=object)"
      ]
     },
     "execution_count": 1125,
     "metadata": {},
     "output_type": "execute_result"
    }
   ],
   "source": [
    "data_pred_final[\"PrimaryPropertyType\"].unique()"
   ]
  },
  {
   "cell_type": "markdown",
   "id": "51af710f",
   "metadata": {},
   "source": [
    "Je fais la même chose pour la variable `Neighborhood` : "
   ]
  },
  {
   "cell_type": "code",
   "execution_count": 1126,
   "id": "5a72726a",
   "metadata": {},
   "outputs": [
    {
     "data": {
      "text/plain": [
       "array(['DOWNTOWN', 'NORTHEAST', 'EAST', 'LAKE UNION', 'GREATER DUWAMISH',\n",
       "       'BALLARD', 'NORTHWEST', 'MAGNOLIA / QUEEN ANNE', 'CENTRAL',\n",
       "       'SOUTHWEST', 'SOUTHEAST', 'NORTH', 'DELRIDGE', 'North', 'Delridge',\n",
       "       'Ballard', 'Northwest', 'Central'], dtype=object)"
      ]
     },
     "execution_count": 1126,
     "metadata": {},
     "output_type": "execute_result"
    }
   ],
   "source": [
    "data_pred_final[\"Neighborhood\"].unique()"
   ]
  },
  {
   "cell_type": "code",
   "execution_count": 1127,
   "id": "13de37ea",
   "metadata": {},
   "outputs": [],
   "source": [
    "data_pred_final = data_pred_final.replace(to_replace =[\"Delridge\"],value =\"DELRIDGE\")\n",
    "data_pred_final = data_pred_final.replace(to_replace =[\"North\"],value =\"NORTH\")\n",
    "data_pred_final = data_pred_final.replace(to_replace =[\"Northwest\"],value =\"NORTHWEST\")\n",
    "data_pred_final = data_pred_final.replace(to_replace =[\"Ballard\"],value =\"BALLARD\")\n",
    "data_pred_final = data_pred_final.replace(to_replace =[\"Central\"],value =\"CENTRAL\")"
   ]
  },
  {
   "cell_type": "code",
   "execution_count": 1128,
   "id": "832bfca3",
   "metadata": {},
   "outputs": [
    {
     "data": {
      "text/plain": [
       "array(['DOWNTOWN', 'NORTHEAST', 'EAST', 'LAKE UNION', 'GREATER DUWAMISH',\n",
       "       'BALLARD', 'NORTHWEST', 'MAGNOLIA / QUEEN ANNE', 'CENTRAL',\n",
       "       'SOUTHWEST', 'SOUTHEAST', 'NORTH', 'DELRIDGE'], dtype=object)"
      ]
     },
     "execution_count": 1128,
     "metadata": {},
     "output_type": "execute_result"
    }
   ],
   "source": [
    "data_pred_final[\"Neighborhood\"].unique()"
   ]
  },
  {
   "cell_type": "code",
   "execution_count": 1129,
   "id": "ab655bae",
   "metadata": {},
   "outputs": [
    {
     "data": {
      "text/html": [
       "<div>\n",
       "<style scoped>\n",
       "    .dataframe tbody tr th:only-of-type {\n",
       "        vertical-align: middle;\n",
       "    }\n",
       "\n",
       "    .dataframe tbody tr th {\n",
       "        vertical-align: top;\n",
       "    }\n",
       "\n",
       "    .dataframe thead th {\n",
       "        text-align: right;\n",
       "    }\n",
       "</style>\n",
       "<table border=\"1\" class=\"dataframe\">\n",
       "  <thead>\n",
       "    <tr style=\"text-align: right;\">\n",
       "      <th></th>\n",
       "      <th>PrimaryPropertyType</th>\n",
       "      <th>Neighborhood</th>\n",
       "      <th>YearBuilt</th>\n",
       "      <th>NumberofBuildings</th>\n",
       "      <th>NumberofFloors</th>\n",
       "      <th>PropertyGFATotal</th>\n",
       "      <th>ZipCode</th>\n",
       "      <th>TotalGHGEmissions</th>\n",
       "      <th>SiteEnergyUseWN(kBtu)</th>\n",
       "      <th>ENERGYSTARScore</th>\n",
       "    </tr>\n",
       "  </thead>\n",
       "  <tbody>\n",
       "    <tr>\n",
       "      <th>0</th>\n",
       "      <td>Hotel</td>\n",
       "      <td>DOWNTOWN</td>\n",
       "      <td>1927.0</td>\n",
       "      <td>1.0</td>\n",
       "      <td>12.0</td>\n",
       "      <td>88434.0</td>\n",
       "      <td>98101.0</td>\n",
       "      <td>249.43</td>\n",
       "      <td>7097539.0</td>\n",
       "      <td>65.0</td>\n",
       "    </tr>\n",
       "    <tr>\n",
       "      <th>1</th>\n",
       "      <td>Hotel</td>\n",
       "      <td>DOWNTOWN</td>\n",
       "      <td>1996.0</td>\n",
       "      <td>1.0</td>\n",
       "      <td>11.0</td>\n",
       "      <td>103566.0</td>\n",
       "      <td>98101.0</td>\n",
       "      <td>263.51</td>\n",
       "      <td>8765788.0</td>\n",
       "      <td>51.0</td>\n",
       "    </tr>\n",
       "    <tr>\n",
       "      <th>2</th>\n",
       "      <td>Hotel</td>\n",
       "      <td>DOWNTOWN</td>\n",
       "      <td>1969.0</td>\n",
       "      <td>1.0</td>\n",
       "      <td>41.0</td>\n",
       "      <td>961990.0</td>\n",
       "      <td>98101.0</td>\n",
       "      <td>2061.48</td>\n",
       "      <td>75506272.0</td>\n",
       "      <td>18.0</td>\n",
       "    </tr>\n",
       "  </tbody>\n",
       "</table>\n",
       "</div>"
      ],
      "text/plain": [
       "  PrimaryPropertyType Neighborhood  YearBuilt  NumberofBuildings  \\\n",
       "0               Hotel     DOWNTOWN     1927.0                1.0   \n",
       "1               Hotel     DOWNTOWN     1996.0                1.0   \n",
       "2               Hotel     DOWNTOWN     1969.0                1.0   \n",
       "\n",
       "   NumberofFloors  PropertyGFATotal  ZipCode  TotalGHGEmissions  \\\n",
       "0            12.0           88434.0  98101.0             249.43   \n",
       "1            11.0          103566.0  98101.0             263.51   \n",
       "2            41.0          961990.0  98101.0            2061.48   \n",
       "\n",
       "   SiteEnergyUseWN(kBtu)  ENERGYSTARScore  \n",
       "0              7097539.0             65.0  \n",
       "1              8765788.0             51.0  \n",
       "2             75506272.0             18.0  "
      ]
     },
     "execution_count": 1129,
     "metadata": {},
     "output_type": "execute_result"
    }
   ],
   "source": [
    "data_pred_final.head(3)"
   ]
  },
  {
   "cell_type": "code",
   "execution_count": 1130,
   "id": "2d3e0828",
   "metadata": {},
   "outputs": [],
   "source": [
    "data_pred_final.YearBuilt = data_pred_final.YearBuilt.astype(int)\n",
    "data_pred_final.NumberofBuildings = data_pred_final.NumberofBuildings.astype(int)\n",
    "data_pred_final.NumberofFloors = data_pred_final.NumberofFloors.astype(int)\n",
    "data_pred_final.ZipCode = data_pred_final.ZipCode.astype(int)"
   ]
  },
  {
   "cell_type": "code",
   "execution_count": 1131,
   "id": "9b6ce593",
   "metadata": {},
   "outputs": [
    {
     "name": "stdout",
     "output_type": "stream",
     "text": [
      "[1900 1901 1902 1903 1904 1905 1906 1907 1908 1909 1910 1911 1912 1913\n",
      " 1914 1915 1916 1917 1918 1919 1920 1921 1922 1923 1924 1925 1926 1927\n",
      " 1928 1929 1930 1931 1932 1935 1936 1937 1938 1939 1940 1941 1942 1944\n",
      " 1945 1946 1947 1948 1949 1950 1951 1952 1953 1954 1955 1956 1957 1958\n",
      " 1959 1960 1961 1962 1963 1964 1965 1966 1967 1968 1969 1970 1971 1972\n",
      " 1973 1974 1975 1976 1977 1978 1979 1980 1981 1982 1983 1984 1985 1986\n",
      " 1987 1988 1989 1990 1991 1992 1993 1994 1995 1996 1997 1998 1999 2000\n",
      " 2001 2002 2003 2004 2005 2006 2007 2008 2009 2010 2011 2012 2013 2014\n",
      " 2015]\n"
     ]
    }
   ],
   "source": [
    "years_built = data_pred_final[\"YearBuilt\"].sort_values().unique()\n",
    "print(years_built)"
   ]
  },
  {
   "cell_type": "markdown",
   "id": "5b35a2ad",
   "metadata": {},
   "source": [
    "- On remarque que les années de constructions sont répartis entre l'année 1900 et 2015, afin de faciliter l'interprétation de l'année de construction et son impact sur les émissions/consommations, je vais diviser les années de construction par décennie."
   ]
  },
  {
   "cell_type": "code",
   "execution_count": 1136,
   "id": "4c9b3417",
   "metadata": {},
   "outputs": [
    {
     "data": {
      "text/html": [
       "<div>\n",
       "<style scoped>\n",
       "    .dataframe tbody tr th:only-of-type {\n",
       "        vertical-align: middle;\n",
       "    }\n",
       "\n",
       "    .dataframe tbody tr th {\n",
       "        vertical-align: top;\n",
       "    }\n",
       "\n",
       "    .dataframe thead th {\n",
       "        text-align: right;\n",
       "    }\n",
       "</style>\n",
       "<table border=\"1\" class=\"dataframe\">\n",
       "  <thead>\n",
       "    <tr style=\"text-align: right;\">\n",
       "      <th></th>\n",
       "      <th>PrimaryPropertyType</th>\n",
       "      <th>Neighborhood</th>\n",
       "      <th>YearBuilt</th>\n",
       "      <th>NumberofBuildings</th>\n",
       "      <th>NumberofFloors</th>\n",
       "      <th>PropertyGFATotal</th>\n",
       "      <th>ZipCode</th>\n",
       "      <th>TotalGHGEmissions</th>\n",
       "      <th>SiteEnergyUseWN(kBtu)</th>\n",
       "      <th>ENERGYSTARScore</th>\n",
       "    </tr>\n",
       "  </thead>\n",
       "  <tbody>\n",
       "    <tr>\n",
       "      <th>0</th>\n",
       "      <td>Hotel</td>\n",
       "      <td>DOWNTOWN</td>\n",
       "      <td>1921-1930</td>\n",
       "      <td>1</td>\n",
       "      <td>12</td>\n",
       "      <td>88434.0</td>\n",
       "      <td>98101</td>\n",
       "      <td>249.43</td>\n",
       "      <td>7097539.0</td>\n",
       "      <td>65.0</td>\n",
       "    </tr>\n",
       "    <tr>\n",
       "      <th>1</th>\n",
       "      <td>Hotel</td>\n",
       "      <td>DOWNTOWN</td>\n",
       "      <td>1991-2000</td>\n",
       "      <td>1</td>\n",
       "      <td>11</td>\n",
       "      <td>103566.0</td>\n",
       "      <td>98101</td>\n",
       "      <td>263.51</td>\n",
       "      <td>8765788.0</td>\n",
       "      <td>51.0</td>\n",
       "    </tr>\n",
       "    <tr>\n",
       "      <th>2</th>\n",
       "      <td>Hotel</td>\n",
       "      <td>DOWNTOWN</td>\n",
       "      <td>1961-1970</td>\n",
       "      <td>1</td>\n",
       "      <td>41</td>\n",
       "      <td>961990.0</td>\n",
       "      <td>98101</td>\n",
       "      <td>2061.48</td>\n",
       "      <td>75506272.0</td>\n",
       "      <td>18.0</td>\n",
       "    </tr>\n",
       "  </tbody>\n",
       "</table>\n",
       "</div>"
      ],
      "text/plain": [
       "  PrimaryPropertyType Neighborhood  YearBuilt  NumberofBuildings  \\\n",
       "0               Hotel     DOWNTOWN  1921-1930                  1   \n",
       "1               Hotel     DOWNTOWN  1991-2000                  1   \n",
       "2               Hotel     DOWNTOWN  1961-1970                  1   \n",
       "\n",
       "   NumberofFloors  PropertyGFATotal  ZipCode  TotalGHGEmissions  \\\n",
       "0              12           88434.0    98101             249.43   \n",
       "1              11          103566.0    98101             263.51   \n",
       "2              41          961990.0    98101            2061.48   \n",
       "\n",
       "   SiteEnergyUseWN(kBtu)  ENERGYSTARScore  \n",
       "0              7097539.0             65.0  \n",
       "1              8765788.0             51.0  \n",
       "2             75506272.0             18.0  "
      ]
     },
     "execution_count": 1136,
     "metadata": {},
     "output_type": "execute_result"
    }
   ],
   "source": [
    "data_pred_final.head(3)"
   ]
  },
  {
   "cell_type": "code",
   "execution_count": 1155,
   "id": "c5065dd1",
   "metadata": {},
   "outputs": [],
   "source": [
    "data_pred_final.YearBuilt = data_pred_final.YearBuilt.apply(str)\n",
    "data_pred_final.ZipCode = data_pred_final.ZipCode.astype(str)"
   ]
  },
  {
   "cell_type": "code",
   "execution_count": 1134,
   "id": "14d70523",
   "metadata": {},
   "outputs": [],
   "source": [
    "data_pred_final.loc[(data_pred_final.YearBuilt >= \"1900\") & (data_pred_final.YearBuilt <= \"1910\"), \"YearBuilt\"] = \"1900-1910\"\n",
    "data_pred_final.loc[(data_pred_final.YearBuilt >= \"1911\") & (data_pred_final.YearBuilt <= \"1920\"), \"YearBuilt\"] = \"1911-1920\"\n",
    "data_pred_final.loc[(data_pred_final.YearBuilt >= \"1921\") & (data_pred_final.YearBuilt <= \"1930\"), \"YearBuilt\"] = \"1921-1930\"\n",
    "data_pred_final.loc[(data_pred_final.YearBuilt >= \"1931\") & (data_pred_final.YearBuilt <= \"1940\"), \"YearBuilt\"] = \"1931-1940\"\n",
    "data_pred_final.loc[(data_pred_final.YearBuilt >= \"1941\") & (data_pred_final.YearBuilt <= \"1950\"), \"YearBuilt\"] = \"1941-1950\"\n",
    "data_pred_final.loc[(data_pred_final.YearBuilt >= \"1951\") & (data_pred_final.YearBuilt <= \"1960\"), \"YearBuilt\"] = \"1951-1960\"\n",
    "data_pred_final.loc[(data_pred_final.YearBuilt >= \"1961\") & (data_pred_final.YearBuilt <= \"1970\"), \"YearBuilt\"] = \"1961-1970\"\n",
    "data_pred_final.loc[(data_pred_final.YearBuilt >= \"1971\") & (data_pred_final.YearBuilt <= \"1980\"), \"YearBuilt\"] = \"1971-1980\"\n",
    "data_pred_final.loc[(data_pred_final.YearBuilt >= \"1981\") & (data_pred_final.YearBuilt <= \"1990\"), \"YearBuilt\"] = \"1981-1990\"\n",
    "data_pred_final.loc[(data_pred_final.YearBuilt >= \"1991\") & (data_pred_final.YearBuilt <= \"2000\"), \"YearBuilt\"] = \"1991-2000\"\n",
    "data_pred_final.loc[(data_pred_final.YearBuilt >= \"2001\") & (data_pred_final.YearBuilt <= \"2010\"), \"YearBuilt\"] = \"2001-2010\"\n",
    "data_pred_final.loc[(data_pred_final.YearBuilt >= \"2011\") & (data_pred_final.YearBuilt <= \"2020\"), \"YearBuilt\"] = \"2011-2020\"\n",
    "data_pred_final.loc[(data_pred_final.YearBuilt >= \"2021\") & (data_pred_final.YearBuilt <= \"2030\"), \"YearBuilt\"] = \"2021-2030\""
   ]
  },
  {
   "cell_type": "code",
   "execution_count": 1157,
   "id": "b5e51178",
   "metadata": {},
   "outputs": [
    {
     "data": {
      "text/html": [
       "<div>\n",
       "<style scoped>\n",
       "    .dataframe tbody tr th:only-of-type {\n",
       "        vertical-align: middle;\n",
       "    }\n",
       "\n",
       "    .dataframe tbody tr th {\n",
       "        vertical-align: top;\n",
       "    }\n",
       "\n",
       "    .dataframe thead th {\n",
       "        text-align: right;\n",
       "    }\n",
       "</style>\n",
       "<table border=\"1\" class=\"dataframe\">\n",
       "  <thead>\n",
       "    <tr style=\"text-align: right;\">\n",
       "      <th></th>\n",
       "      <th>NumberofBuildings</th>\n",
       "      <th>NumberofFloors</th>\n",
       "      <th>PropertyGFATotal</th>\n",
       "      <th>TotalGHGEmissions</th>\n",
       "      <th>SiteEnergyUseWN(kBtu)</th>\n",
       "      <th>ENERGYSTARScore</th>\n",
       "    </tr>\n",
       "  </thead>\n",
       "  <tbody>\n",
       "    <tr>\n",
       "      <th>count</th>\n",
       "      <td>3048.000000</td>\n",
       "      <td>3048.00000</td>\n",
       "      <td>3.048000e+03</td>\n",
       "      <td>3048.000000</td>\n",
       "      <td>3.048000e+03</td>\n",
       "      <td>3048.000000</td>\n",
       "    </tr>\n",
       "    <tr>\n",
       "      <th>mean</th>\n",
       "      <td>1.022966</td>\n",
       "      <td>4.30643</td>\n",
       "      <td>1.117135e+05</td>\n",
       "      <td>164.325997</td>\n",
       "      <td>7.763053e+06</td>\n",
       "      <td>61.057277</td>\n",
       "    </tr>\n",
       "    <tr>\n",
       "      <th>std</th>\n",
       "      <td>0.431144</td>\n",
       "      <td>6.80503</td>\n",
       "      <td>1.913929e+05</td>\n",
       "      <td>566.067756</td>\n",
       "      <td>1.882415e+07</td>\n",
       "      <td>26.591079</td>\n",
       "    </tr>\n",
       "    <tr>\n",
       "      <th>min</th>\n",
       "      <td>0.000000</td>\n",
       "      <td>0.00000</td>\n",
       "      <td>1.630000e+04</td>\n",
       "      <td>-0.800000</td>\n",
       "      <td>0.000000e+00</td>\n",
       "      <td>1.000000</td>\n",
       "    </tr>\n",
       "    <tr>\n",
       "      <th>25%</th>\n",
       "      <td>1.000000</td>\n",
       "      <td>1.00000</td>\n",
       "      <td>2.881700e+04</td>\n",
       "      <td>18.997500</td>\n",
       "      <td>1.281681e+06</td>\n",
       "      <td>42.320000</td>\n",
       "    </tr>\n",
       "    <tr>\n",
       "      <th>50%</th>\n",
       "      <td>1.000000</td>\n",
       "      <td>2.00000</td>\n",
       "      <td>4.768600e+04</td>\n",
       "      <td>47.595000</td>\n",
       "      <td>2.713462e+06</td>\n",
       "      <td>64.985000</td>\n",
       "    </tr>\n",
       "    <tr>\n",
       "      <th>75%</th>\n",
       "      <td>1.000000</td>\n",
       "      <td>4.00000</td>\n",
       "      <td>1.029300e+05</td>\n",
       "      <td>135.552500</td>\n",
       "      <td>7.195354e+06</td>\n",
       "      <td>83.000000</td>\n",
       "    </tr>\n",
       "    <tr>\n",
       "      <th>max</th>\n",
       "      <td>9.000000</td>\n",
       "      <td>99.00000</td>\n",
       "      <td>1.952220e+06</td>\n",
       "      <td>12307.160000</td>\n",
       "      <td>2.977410e+08</td>\n",
       "      <td>100.000000</td>\n",
       "    </tr>\n",
       "  </tbody>\n",
       "</table>\n",
       "</div>"
      ],
      "text/plain": [
       "       NumberofBuildings  NumberofFloors  PropertyGFATotal  TotalGHGEmissions  \\\n",
       "count        3048.000000      3048.00000      3.048000e+03        3048.000000   \n",
       "mean            1.022966         4.30643      1.117135e+05         164.325997   \n",
       "std             0.431144         6.80503      1.913929e+05         566.067756   \n",
       "min             0.000000         0.00000      1.630000e+04          -0.800000   \n",
       "25%             1.000000         1.00000      2.881700e+04          18.997500   \n",
       "50%             1.000000         2.00000      4.768600e+04          47.595000   \n",
       "75%             1.000000         4.00000      1.029300e+05         135.552500   \n",
       "max             9.000000        99.00000      1.952220e+06       12307.160000   \n",
       "\n",
       "       SiteEnergyUseWN(kBtu)  ENERGYSTARScore  \n",
       "count           3.048000e+03      3048.000000  \n",
       "mean            7.763053e+06        61.057277  \n",
       "std             1.882415e+07        26.591079  \n",
       "min             0.000000e+00         1.000000  \n",
       "25%             1.281681e+06        42.320000  \n",
       "50%             2.713462e+06        64.985000  \n",
       "75%             7.195354e+06        83.000000  \n",
       "max             2.977410e+08       100.000000  "
      ]
     },
     "execution_count": 1157,
     "metadata": {},
     "output_type": "execute_result"
    }
   ],
   "source": [
    "data_pred_final.describe()"
   ]
  },
  {
   "cell_type": "code",
   "execution_count": 1163,
   "id": "57f970e0",
   "metadata": {},
   "outputs": [],
   "source": [
    "data_pred_final.to_csv(\"Seattle_table\")"
   ]
  },
  {
   "cell_type": "code",
   "execution_count": null,
   "id": "1e4fde75",
   "metadata": {},
   "outputs": [],
   "source": []
  }
 ],
 "metadata": {
  "kernelspec": {
   "display_name": "Python 3",
   "language": "python",
   "name": "python3"
  },
  "language_info": {
   "codemirror_mode": {
    "name": "ipython",
    "version": 3
   },
   "file_extension": ".py",
   "mimetype": "text/x-python",
   "name": "python",
   "nbconvert_exporter": "python",
   "pygments_lexer": "ipython3",
   "version": "3.8.8"
  }
 },
 "nbformat": 4,
 "nbformat_minor": 5
}
